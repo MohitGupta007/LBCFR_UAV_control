{
  "nbformat": 4,
  "nbformat_minor": 0,
  "metadata": {
    "colab": {
      "provenance": []
    },
    "kernelspec": {
      "name": "python3",
      "display_name": "Python 3"
    },
    "language_info": {
      "name": "python"
    },
    "accelerator": "GPU",
    "gpuClass": "standard"
  },
  "cells": [
    {
      "cell_type": "code",
      "execution_count": null,
      "metadata": {
        "id": "MDiB_XWDWsA3"
      },
      "outputs": [],
      "source": [
        "import tensorflow as tf2\n",
        "print(tf2.__version__)\n",
        "\n",
        "import random\n",
        "import numpy as np\n",
        "from numpy import cos,sin,tan\n",
        "import matplotlib.pyplot as plt"
      ]
    },
    {
      "cell_type": "code",
      "source": [
        "gpus = tf2.config.list_logical_devices('GPU')\n",
        "print(gpus)"
      ],
      "metadata": {
        "id": "cZX9TfTON2Qm"
      },
      "execution_count": null,
      "outputs": []
    },
    {
      "cell_type": "code",
      "source": [
        "tf2.config.list_physical_devices('GPU')\n",
        "print(\"Num GPUs Available: \", len(tf2.config.list_physical_devices('GPU')))\n"
      ],
      "metadata": {
        "id": "OdIoQX95qAHb"
      },
      "execution_count": null,
      "outputs": []
    },
    {
      "cell_type": "code",
      "source": [
        "# states : [x,y,z,r,p,y,vx,vy,vz,wx,wy,wz]\n",
        "# inputs : [F,tx,ty,tz]\n",
        "def quad_model(state):\n",
        "  # x.reshape(-1,1)\n",
        "  g  = 9.81\n",
        "  m  = 0.468\n",
        "  L  = 0.225\n",
        "  km = 20\n",
        "  kF = 2.980*10**(-6)\n",
        "  kM = 1.140*10**(-7)\n",
        "  IM = 3.357*10**(-5)\n",
        "  Ixx = 4.856*10**(-3)\n",
        "  Iyy = 4.856*10**(-3)\n",
        "  Izz = 8.801*10**(-3)\n",
        "  Ax = 0.25\n",
        "  Ay = 0.25\n",
        "  Az = 0.25\n",
        "\n",
        "  x       = state[0]\n",
        "  y       = state[1]\n",
        "  z       = state[2]\n",
        "  vx      = state[3]\n",
        "  vy      = state[4]\n",
        "  vz      = state[5]\n",
        "  phi     = state[6]\n",
        "  theta   = state[7]\n",
        "  psi     = state[8]\n",
        "  p       = state[9]\n",
        "  q       = state[10]\n",
        "  r       = state[11]\n",
        "  T  = state[12]\n",
        "  Tx  = state[13]\n",
        "  Ty  = state[14]\n",
        "  Tz  = state[15]\n",
        "  Gamma  = state[16]\n",
        "\n",
        "  Position     = np.array([[x],[y],[z]])\n",
        "  Velocity     = np.array([[vx],[vy],[vz]])\n",
        "  Angle        = np.array([[phi],[theta],[psi]])\n",
        "  AngularVel   = np.array([[p],[q],[r]])\n",
        "  Tau = np.array([[Tx],[Ty],[Tz]])\n",
        "  \n",
        "  e3 = np.array([[0],[0],[1]])\n",
        "  I = np.array([[Ixx,0,0],[0,Iyy,0],[0,0,Izz]])\n",
        "  A = np.array([[Ax,0,0],[0,Ay,0],[0,0,Az]])\n",
        "\n",
        "  W = np.array([[1, sin(phi)*tan(theta), cos(phi)*tan(theta)],\n",
        "                [0, cos(phi), -sin(phi)],\n",
        "                [0, sin(phi)/cos(theta), cos(phi)/cos(theta)]])\n",
        "\n",
        "  R = np.array([[cos(psi)*sin(theta)*cos(phi)+sin(psi)*sin(phi)],\n",
        "                [sin(psi)*sin(theta)*cos(phi)-cos(psi)*sin(phi)],\n",
        "                [cos(theta)*cos(phi)]])\n",
        "  \n",
        "  P1 = np.array([[(Iyy-Izz)*q*r/Ixx],\n",
        "                 [(Izz-Ixx)*p*r/Iyy],\n",
        "                 [(Ixx-Iyy)*p*q/Izz]])\n",
        "  \n",
        "  P2 = np.array([[IM*q/Ixx*Gamma],\n",
        "                 [IM*(-p)/Iyy*Gamma],\n",
        "                 [0]])\n",
        "  \n",
        "  P3 = np.array([[Tau[0][0]/Ixx],\n",
        "                 [Tau[1][0]/Iyy],\n",
        "                 [Tau[2][0]/Izz]])\n",
        "  \n",
        "  x_dot = Velocity\n",
        "  v_dot = -g*e3 + T/m*R - 1/m*np.matmul(A,Velocity)\n",
        "  r_dot = np.matmul(W,AngularVel)\n",
        "  w_dot = P1-P2+P3\n",
        "\n",
        "  return np.concatenate((x_dot.T,v_dot.T,r_dot.T,w_dot.T),axis=1)\n",
        "  # return np.concatenate((v_dot.T, w_dot.T),axis=1);\n",
        "  # return np.array(v_dot.T)"
      ],
      "metadata": {
        "id": "y1InMl57wZRd"
      },
      "execution_count": 12,
      "outputs": []
    },
    {
      "cell_type": "code",
      "source": [
        "list_Size = 10000\n",
        "L  = 0.225\n",
        "km = 20\n",
        "kF = 2.980*10**(-6)\n",
        "kM = 1.140*10**(-7)\n",
        "def get_x_train(list_Size):\n",
        "  p = np.array([10.0,10.0,10.0,3.14/3,3.14/3,3.14,10.0,10.0,10.0,10.0,10.0,10.0,25.0,1.0,1.0,1.0])\n",
        "  x_train12 = (np.random.randint(2000,size=(list_Size,2))-1000)/100\n",
        "  x_train3 = (np.random.randint(2000,size=(list_Size,1))-1000)/100\n",
        "  x_train46 = (np.random.randint(2000,size=(list_Size,3))-1000)/100\n",
        "  \n",
        "  x_train7 = (np.random.randint(628/4,size=(list_Size,1))-314/4)/100\n",
        "  x_train8 = (np.random.randint(628/4,size=(list_Size,1))-314/4)/100\n",
        "  x_train9 = (np.random.randint(628,size=(list_Size,1))-314)/100\n",
        "  x_train1012 = (np.random.randint(200,size=(list_Size,3))-100)/100\n",
        "  x_train1316 = (np.random.randint(90000,size=(list_Size,4)))/100\n",
        "  # x_train1416 = (np.random.randint(90000,size=(list_Size,3)))/100\n",
        "\n",
        "  F = kF*x_train1316**2\n",
        "  M = kM*x_train1316**2\n",
        "  # F = kF*np.array([[sigma1**2],[sigma2**2],[sigma3**2],[sigma4**2]])\n",
        "  # M = kM*np.array([[sigma1**2],[sigma2**2],[sigma3**2],[sigma4**2]])\n",
        "  \n",
        "  T = np.sum(F,axis=1)\n",
        "  T = T.reshape(-1,1)\n",
        "\n",
        "  Tx = L*(-F[:,1]+F[:,3])\n",
        "  Ty = L*(-F[:,0]+F[:,2])\n",
        "  Tz = -M[:,0]+M[:,1]-M[:,2]+M[:,3]\n",
        "  Tx = Tx.reshape(-1,1)\n",
        "  Ty = Ty.reshape(-1,1)\n",
        "  Tz = Tz.reshape(-1,1)\n",
        "\n",
        "  Gamma = x_train1316[:,0] - x_train1316[:,1] + x_train1316[:,2] - x_train1316[:,3]\n",
        "  Gamma = Gamma.reshape(-1,1)\n",
        "\n",
        "  xtrain = np.column_stack((x_train12,x_train3,x_train46,x_train7,x_train8,x_train9,x_train1012,T,Tx,Ty,Tz,Gamma))\n",
        "  xtrain2 = np.column_stack((x_train12,x_train3,x_train46,x_train7,x_train8,x_train9,x_train1012,T,Tx,Ty,Tz,Gamma))\n",
        "  \n",
        "  return xtrain, xtrain2\n",
        "\n",
        "x_train,x_train2 = get_x_train(list_Size)\n",
        "print(x_train[0])\n",
        "# x_train = np.array([[0,0,0,0,0,0,0,0,0,0,0,0,0,0,0,0]])\n",
        "y_train = quad_model(x_train[0])\n",
        "\n",
        "for i in range(1,len(x_train)):\n",
        "  y = quad_model(x_train[i])\n",
        "  y_train = np.vstack((y_train,y))\n",
        "print(y_train[0],x_train.shape)"
      ],
      "metadata": {
        "id": "1tD-EgogcBLe"
      },
      "execution_count": null,
      "outputs": []
    },
    {
      "cell_type": "code",
      "source": [
        "list_Size = 10000\n",
        "L  = 0.225\n",
        "km = 20\n",
        "kF = 2.980*10**(-6)\n",
        "kM = 1.140*10**(-7)\n",
        "def get_x_val(list_Size):\n",
        "  p = np.array([10.0,10.0,10.0,3.14/3,3.14/3,3.14,10.0,10.0,10.0,10.0,10.0,10.0,25.0,1.0,1.0,1.0])\n",
        "  x_train12 = (np.random.randint(20000,size=(list_Size,2))-10000)/100\n",
        "  x_train3 = (np.random.randint(20000,size=(list_Size,1))-10000)/100\n",
        "  x_train46 = (np.random.randint(20000,size=(list_Size,3))-10000)/100\n",
        "  \n",
        "  x_train7 = (np.random.randint(628/4,size=(list_Size,1))-314/4)/100\n",
        "  x_train8 = (np.random.randint(628/4,size=(list_Size,1))-314/4)/100\n",
        "  x_train9 = (np.random.randint(628,size=(list_Size,1))-314)/100\n",
        "  x_train1012 = (np.random.randint(400,size=(list_Size,3))-200)/100\n",
        "  x_train1316 = (np.random.randint(90000,size=(list_Size,4)))/100\n",
        "  # x_train1416 = (np.random.randint(90000,size=(list_Size,3)))/100\n",
        "\n",
        "  F = kF*x_train1316**2\n",
        "  M = kM*x_train1316**2\n",
        "  # F = kF*np.array([[sigma1**2],[sigma2**2],[sigma3**2],[sigma4**2]])\n",
        "  # M = kM*np.array([[sigma1**2],[sigma2**2],[sigma3**2],[sigma4**2]])\n",
        "  \n",
        "  T = np.sum(F,axis=1)\n",
        "  T = T.reshape(-1,1)\n",
        "\n",
        "  Tx = L*(-F[:,1]+F[:,3])\n",
        "  Ty = L*(-F[:,0]+F[:,2])\n",
        "  Tz = -M[:,0]+M[:,1]-M[:,2]+M[:,3]\n",
        "  Tx = Tx.reshape(-1,1)\n",
        "  Ty = Ty.reshape(-1,1)\n",
        "  Tz = Tz.reshape(-1,1)\n",
        "\n",
        "  Gamma = x_train1316[:,0] - x_train1316[:,1] + x_train1316[:,2] - x_train1316[:,3]\n",
        "  Gamma = Gamma.reshape(-1,1)\n",
        "\n",
        "  xtrain = np.column_stack((x_train12,x_train3,x_train46,x_train7,x_train8,x_train9,x_train1012,T,Tx,Ty,Tz,Gamma))\n",
        "  xtrain2 = np.column_stack((x_train12,x_train3,x_train46,x_train7,x_train8,x_train9,x_train1012,T,Tx,Ty,Tz,Gamma))\n",
        "  \n",
        "  return xtrain, xtrain2"
      ],
      "metadata": {
        "id": "whv-bRpikZBN"
      },
      "execution_count": 14,
      "outputs": []
    },
    {
      "cell_type": "code",
      "source": [
        "x_eval,x_eval2 = get_x_train(1000)\n",
        "y_eval = quad_model(x_eval[0])\n",
        "for i in range(1,len(x_eval)):\n",
        "  y = quad_model(x_eval[i])\n",
        "  y_eval = np.vstack((y_eval,y))\n",
        "print(x_eval[0])\n",
        "print(x_eval2[0])\n",
        "print(y_eval,y_eval.shape)"
      ],
      "metadata": {
        "id": "r1v2aVc6oyrD"
      },
      "execution_count": null,
      "outputs": []
    },
    {
      "cell_type": "code",
      "source": [
        "model = tf2.keras.Sequential([\n",
        "    tf2.keras.Input(shape=(17,), name=\"input\"),\n",
        "    # tf2.keras.layers.Dense(units=512, activation='relu', name=\"layer1\"),\n",
        "    # tf2.keras.layers.Dense(units=512, activation='relu', name=\"layer2\"),\n",
        "    tf2.keras.layers.Dense(units=64, activation='relu', name=\"layer3\"),\n",
        "    tf2.keras.layers.Dense(units=64, activation='relu', name=\"layer4\"),\n",
        "    tf2.keras.layers.Dense(units=12, name=\"output\")\n",
        "])"
      ],
      "metadata": {
        "id": "ZWrFe2xCYFIj"
      },
      "execution_count": null,
      "outputs": []
    },
    {
      "cell_type": "code",
      "source": [
        "epochs = 1000\n",
        "batch_size = 64\n",
        "initial_learning_rate = 0.001\n",
        "final_learning_rate = 0.0001\n",
        "learning_rate_decay_factor = (final_learning_rate / initial_learning_rate)**(1/epochs)\n",
        "steps_per_epoch = int(len(x_train2)/batch_size)\n",
        "\n",
        "lr_schedule = tf2.keras.optimizers.schedules.ExponentialDecay(\n",
        "                initial_learning_rate=initial_learning_rate,\n",
        "                decay_steps=steps_per_epoch,\n",
        "                decay_rate=learning_rate_decay_factor)\n",
        "\n",
        "# checkpoint_dir = \"./train_lbcr5/cp-{epoch:04d}.ckpt\"\n",
        "\n",
        "# cp_callback = tf2.keras.callbacks.ModelCheckpoint(\n",
        "#     filepath=checkpoint_dir, \n",
        "#     verbose=1, \n",
        "#     save_weights_only=True,\n",
        "#     save_freq=5000*batch_size)\n",
        "\n",
        "# model.compile(optimizer=tf2.keras.optimizers.legacy.Adam(learning_rate=lr_schedule), \n",
        "#               loss='mae',\n",
        "#               metrics=['mse'])\n",
        "\n",
        "model.compile(optimizer=tf2.keras.optimizers.legacy.RMSprop(learning_rate=lr_schedule),\n",
        "              loss='mse',\n",
        "              metrics=['mae'])"
      ],
      "metadata": {
        "id": "HrWrbcM4YIoc"
      },
      "execution_count": null,
      "outputs": []
    },
    {
      "cell_type": "code",
      "source": [
        "x_train,x_train2 = get_x_train(list_Size)\n",
        "\n",
        "y_train = quad_model(x_train[0])\n",
        "for i in range(1,len(x_train)):\n",
        "  y = quad_model(x_train[i])\n",
        "  y_train = np.vstack((y_train,y))\n",
        "\n",
        "x_train2 = tf2.convert_to_tensor(x_train2, dtype=tf2.float32)\n",
        "y_train = tf2.convert_to_tensor(y_train, dtype=tf2.float32)\n"
      ],
      "metadata": {
        "id": "2zibJ9KKisT2"
      },
      "execution_count": null,
      "outputs": []
    },
    {
      "cell_type": "code",
      "source": [
        "with tf2.device('/device:GPU:0'):\n",
        "  hist = model.fit( x_train2, y_train, epochs = epochs,callbacks=[],batch_size=batch_size,verbose=2)"
      ],
      "metadata": {
        "id": "1gqxPeNXjPhI"
      },
      "execution_count": null,
      "outputs": []
    },
    {
      "cell_type": "code",
      "source": [
        "x_eval,x_eval2 = get_x_train(10000)\n",
        "y_eval = quad_model(x_eval[0])\n",
        "for i in range(1,len(x_eval)):\n",
        "  y = quad_model(x_eval[i])\n",
        "  y_eval = np.vstack((y_eval,y))\n",
        "model.evaluate(x_eval2,y_eval)"
      ],
      "metadata": {
        "id": "-UH1DbwJjlIP"
      },
      "execution_count": null,
      "outputs": []
    },
    {
      "cell_type": "code",
      "source": [
        "# x_eval = np.array([0,0,0,0.,0.,0.,0,0,0.0,0,0,0,8,0,0,0]).T;\n",
        "# x_eval2 = np.array([0,0,0,0.,0.,0.,0,0,0.0,0,0,0,8,0,0,0]).T;\n",
        "# # x_eval2 = np.array([0,0,0,np.cos(0.),np.sin(0.),np.cos(0.),np.sin(0.),np.cos(0),np.sin(0),0,0,0,0,0,0,20.0/25.0,0,0,0]).T;\n",
        "# y_eval = quad_model(x_eval)\n",
        "# y_pre = model.predict([list(x_eval)])\n",
        "# print(x_eval)\n",
        "# print(y_eval[0])\n",
        "# print(y_pre[0])"
      ],
      "metadata": {
        "id": "w8be2QZwFEmK"
      },
      "execution_count": null,
      "outputs": []
    },
    {
      "cell_type": "code",
      "source": [
        "x_eval,x_eval2 = get_x_train(100)\n",
        "y_eval = quad_model(x_eval[0])\n",
        "y_pre = model.predict([list(x_eval[0,:])])\n",
        "for i in range(1,len(x_eval2)):\n",
        "  y = quad_model(x_eval[i])\n",
        "  y_eval = np.vstack((y_eval,y))\n",
        "  y_pre = np.vstack((y_pre,model.predict([list(x_eval2[i,:])])))\n",
        "print(x_eval2[0])\n",
        "print(y_eval[0])\n",
        "print(y_pre[0])"
      ],
      "metadata": {
        "id": "_jgyF-1tmqZM"
      },
      "execution_count": null,
      "outputs": []
    },
    {
      "cell_type": "code",
      "source": [
        "plt.scatter(y_eval, y_pre, alpha=0.6, color='#FF0000', lw=1, ec='black')"
      ],
      "metadata": {
        "colab": {
          "base_uri": "https://localhost:8080/",
          "height": 447
        },
        "id": "wIuB8StrulFy",
        "outputId": "b0fa2ab8-78f1-441d-b6bb-b3eb416b8163"
      },
      "execution_count": 20,
      "outputs": [
        {
          "output_type": "execute_result",
          "data": {
            "text/plain": [
              "<matplotlib.collections.PathCollection at 0x7f4808365370>"
            ]
          },
          "metadata": {},
          "execution_count": 20
        },
        {
          "output_type": "display_data",
          "data": {
            "text/plain": [
              "<Figure size 640x480 with 1 Axes>"
            ],
            "image/png": "[encoded data removed]"
          },
          "metadata": {}
        }
      ]
    },
    {
      "cell_type": "code",
      "source": [
        "latest = tf2.train.latest_checkpoint(\"./train_lbcr5/\")\n",
        "model.load_weights(latest)"
      ],
      "metadata": {
        "id": "F7WY1XmDn7SQ"
      },
      "execution_count": null,
      "outputs": []
    },
    {
      "cell_type": "code",
      "source": [
        "print(len(x_eval))\n",
        "for i in range(1000):\n",
        "  y = tflite_model.predict_single(x_eval2[0])\n",
        "start_time = time.time()\n",
        "y = tflite_model.predict_single(x_eval2[0])\n",
        "print(\"--- %s seconds ---\" % (time.time() - start_time))\n",
        "start_time = time.time()\n",
        "y = kmodel.predict([list(x_eval2[0])])\n",
        "print(\"--- %s seconds ---\" % (time.time() - start_time))\n",
        "print(len(y))"
      ],
      "metadata": {
        "id": "f2BtbiwsofFB"
      },
      "execution_count": null,
      "outputs": []
    },
    {
      "cell_type": "code",
      "source": [
        "x_eval,x_eval2 = get_x_train(2)\n",
        "x_eval = np.array([0.57,0.53,0.51,-1.12,-1.42,-1.44,-0.88,-0.7,-0.26,-0.56,-0.73,-1.62,15.17,0.41,-0.89,0.19]).T;\n",
        "x_eval2 = np.array([0.57,0.53,0.51,np.cos(-1.12),np.sin(-1.12),np.cos(-1.42),np.sin(-1.42),np.cos(-1.44),np.sin(-1.44),-0.88,-0.7,-0.26,-0.56,-0.73,-1.62,15.17,0.41,-0.89,0.19]).T;\n",
        "x_eval.reshape(-1,1)\n",
        "x_eval[12]"
      ],
      "metadata": {
        "id": "F5gi0Gc2ITMI",
        "colab": {
          "base_uri": "https://localhost:8080/"
        },
        "outputId": "1aa5c51a-8f2c-485d-8a8e-8456999aa0a9"
      },
      "execution_count": null,
      "outputs": [
        {
          "output_type": "execute_result",
          "data": {
            "text/plain": [
              "15.17"
            ]
          },
          "metadata": {},
          "execution_count": 34
        }
      ]
    },
    {
      "cell_type": "code",
      "source": [
        "model.save('/home/mohit/lbcfr_colab/model_0405_11_2_lr')"
      ],
      "metadata": {
        "id": "LLH1qs2EUE9E",
        "colab": {
          "base_uri": "https://localhost:8080/"
        },
        "outputId": "832a7d42-fc0e-48e1-fe0f-a616774ab2f8"
      },
      "execution_count": null,
      "outputs": [
        {
          "output_type": "stream",
          "name": "stdout",
          "text": [
            "INFO:tensorflow:Assets written to: /home/mohit/lbcfr_colab/model_0405_11_2_lr/assets\n"
          ]
        }
      ]
    },
    {
      "cell_type": "code",
      "source": [
        "model = tf2.keras.models.load_model('/home/mohit/lbcfr_colab/model_0405_8_lr')"
      ],
      "metadata": {
        "id": "5QTBPnF1zeX7",
        "colab": {
          "base_uri": "https://localhost:8080/"
        },
        "outputId": "3f452769-3972-43bd-8ab6-ef22a259f465"
      },
      "execution_count": 16,
      "outputs": [
        {
          "output_type": "stream",
          "name": "stdout",
          "text": [
            "WARNING:tensorflow:SavedModel saved prior to TF 2.5 detected when loading Keras model. Please ensure that you are saving the model with model.save() or tf.keras.models.save_model(), *NOT* tf.saved_model.save(). To confirm, there should be a file named \"keras_metadata.pb\" in the SavedModel directory.\n"
          ]
        }
      ]
    },
    {
      "cell_type": "code",
      "source": [
        "model.save('/home/mohit/lbcfr_colab/model_0405_11_lite')"
      ],
      "metadata": {
        "colab": {
          "base_uri": "https://localhost:8080/"
        },
        "id": "6y-_XcoOnLcu",
        "outputId": "d8a7672e-a696-4c56-9d5a-f64be66d5ddb"
      },
      "execution_count": null,
      "outputs": [
        {
          "output_type": "stream",
          "name": "stdout",
          "text": [
            "INFO:tensorflow:Assets written to: /home/mohit/lbcfr_colab/model_0405_11_lite/assets\n"
          ]
        },
        {
          "output_type": "stream",
          "name": "stderr",
          "text": [
            "INFO:tensorflow:Assets written to: /home/mohit/lbcfr_colab/model_0405_11_lite/assets\n"
          ]
        }
      ]
    }
  ]
}